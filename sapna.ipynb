{
  "nbformat": 4,
  "nbformat_minor": 0,
  "metadata": {
    "colab": {
      "provenance": [],
      "authorship_tag": "ABX9TyM9d1tMi143gXVz2Le/AH9h",
      "include_colab_link": true
    },
    "kernelspec": {
      "name": "python3",
      "display_name": "Python 3"
    },
    "language_info": {
      "name": "python"
    }
  },
  "cells": [
    {
      "cell_type": "markdown",
      "metadata": {
        "id": "view-in-github",
        "colab_type": "text"
      },
      "source": [
        "<a href=\"https://colab.research.google.com/github/sapnaprane/Python/blob/main/sapna.ipynb\" target=\"_parent\"><img src=\"https://colab.research.google.com/assets/colab-badge.svg\" alt=\"Open In Colab\"/></a>"
      ]
    },
    {
      "cell_type": "code",
      "execution_count": null,
      "metadata": {
        "colab": {
          "base_uri": "https://localhost:8080/"
        },
        "id": "MyQfPcgnXaFx",
        "outputId": "e8239c92-a888-4949-a632-286953b66577"
      },
      "outputs": [
        {
          "output_type": "stream",
          "name": "stdout",
          "text": [
            "Enter Student Name : sap\n",
            "Enter Student Roll Number : 32\n",
            "Enter Class : mca\n",
            "Enter Java Marks : 45\n",
            "Enter C++ Marks : 45\n",
            "Enter Python Marks : 45\n",
            "Enter Ruby Marks : 45\n",
            "Enter SQL Marks : 45\n",
            "Student Name : sap\n",
            "Roll No. : 32\n",
            "Class: mca\n",
            "Java marks :  45\n",
            "C++ marks : 45\n",
            "Python marks : 45\n",
            "Ruby marks : 45\n",
            "SQL marks : 45\n",
            "Total Marks : 225\n",
            "Percentage : 45.0 %\n",
            "Enter Number 1 : 32\n",
            "Enter Number 2 : 23\n",
            "Number 1 x  Number 2 = 736.0\n"
          ]
        }
      ],
      "source": [
        "# Day1 assignment 1 (question 2 and 3 included)\n",
        "\n",
        "studName = input(\"Enter Student Name : \")\n",
        "RollNo = input(\"Enter Student Roll Number : \")\n",
        "Class = input(\"Enter Class : \")\n",
        "Java = int (input(\"Enter Java Marks : \"))\n",
        "CPlus = int (input(\"Enter C++ Marks : \"))\n",
        "Python = int(input(\"Enter Python Marks : \"))\n",
        "Ruby = int (input(\"Enter Ruby Marks : \"))\n",
        "SQL = int (input(\"Enter SQL Marks : \"))\n",
        "\n",
        "total = Java+CPlus+Python+Ruby+SQL\n",
        "Percentage = total/5\n",
        "\n",
        "print(\"Student Name :\", studName)\n",
        "print(\"Roll No. :\", RollNo)\n",
        "print(\"Class:\", Class)\n",
        "print(\"Java marks : \",Java)\n",
        "print(\"C++ marks :\",CPlus)\n",
        "print(\"Python marks :\",Python)\n",
        "print(\"Ruby marks :\",Ruby)\n",
        "print(\"SQL marks :\", SQL)\n",
        "print(\"Total Marks :\",total)\n",
        "print(\"Percentage :\",Percentage, \"%\")\n",
        "\n",
        "#question 3\n",
        "\n",
        "Number1 = float (input(\"Enter Number 1 : \"))\n",
        "Number2 = float (input(\"Enter Number 2 : \"))\n",
        "\n",
        "total2 = Number1*Number2\n",
        "1\n",
        "print(\"Number 1 x  Number 2 =\",total2)"
      ]
    },
    {
      "cell_type": "code",
      "source": [
        "#Assignment 2 (Question 1)\n",
        "num = int(input(\"Enter Number : \"))\n",
        "\n",
        "if num%2==0:\n",
        " print(\"Number you entered is Even\")\n",
        "else:\n",
        " print(\"Number you entered is Odd\")\n"
      ],
      "metadata": {
        "colab": {
          "base_uri": "https://localhost:8080/"
        },
        "id": "LU9ANrYHmhSO",
        "outputId": "607e8fed-18cc-4d1a-910d-f1c03539c499"
      },
      "execution_count": null,
      "outputs": [
        {
          "output_type": "stream",
          "name": "stdout",
          "text": [
            "Enter Number : 65\n",
            "Number you entered is Odd\n"
          ]
        }
      ]
    },
    {
      "cell_type": "code",
      "source": [
        "# Assignment 2 (Question 2)\n",
        "\n",
        "lett = input(\"Enter the Alphabet : \")\n",
        "# a e i o u\n",
        "\n",
        "if (lett=='A' or lett=='a' or lett=='E' or lett=='e' or lett=='I' or lett=='i' or lett=='O' or lett=='o' or lett=='U' or lett=='u'):\n",
        "  print(\"Entered Alphabet is Vowel\")\n",
        "\n",
        "else:\n",
        "  print(\"Entered Alphabet is Consonant\")\n"
      ],
      "metadata": {
        "colab": {
          "base_uri": "https://localhost:8080/"
        },
        "id": "VMYFXDMGnrGZ",
        "outputId": "920b48b5-c07e-485c-d738-f8f9d9cfeab4"
      },
      "execution_count": null,
      "outputs": [
        {
          "output_type": "stream",
          "name": "stdout",
          "text": [
            "Enter the Alphabet : T\n",
            "Entered Alphabet is Consonant\n"
          ]
        }
      ]
    },
    {
      "cell_type": "code",
      "source": [
        "# Day 2 Assignment 2 (Question 3)\n",
        "\n",
        "num1 = int(input(\"Enter Value for Number1 : \"))\n",
        "num2 = int(input(\"Enter Value for Number2 : \"))\n",
        "num3 = int(input(\"Enter Value for Number3 : \"))\n",
        "\n",
        "if num1 > num2 and num1 > num3:\n",
        "  print(\"Number 1 is Biggest\")\n",
        "elif num2 > num1 and num2 > num3:\n",
        "  print(\"Number 2 is Biggest\")\n",
        "elif num2 > num1 and num2 > num3:\n",
        "  print(\"Number 3 is Biggest\")\n",
        "else:\n",
        "  print(\"All values are equal\")"
      ],
      "metadata": {
        "colab": {
          "base_uri": "https://localhost:8080/"
        },
        "id": "J5zMkHc7pWmn",
        "outputId": "21c70628-9bca-4a3b-d54e-0b342fd031ea"
      },
      "execution_count": null,
      "outputs": [
        {
          "output_type": "stream",
          "name": "stdout",
          "text": [
            "Enter Value for Number1 : 45\n",
            "Enter Value for Number2 : 88\n",
            "Enter Value for Number3 : 34\n",
            "Number 2 is Biggest\n"
          ]
        }
      ]
    },
    {
      "cell_type": "code",
      "source": [
        "# Assignment 2 (Question 4\n",
        "year = int(input(\"Enter The Year : \"))\n",
        "\n",
        "if year%4==0:\n",
        " print(year, \"is a Leap Year\")\n",
        "else:\n",
        " print(year, \"is not a Leap Year\")\n"
      ],
      "metadata": {
        "colab": {
          "base_uri": "https://localhost:8080/"
        },
        "id": "Vl-HbJQsq65o",
        "outputId": "0a6bbf1a-31f5-4dd9-e9aa-56545260887f"
      },
      "execution_count": null,
      "outputs": [
        {
          "output_type": "stream",
          "name": "stdout",
          "text": [
            "Enter The Year : 2015\n",
            "2015 is not a Leap Year\n"
          ]
        }
      ]
    },
    {
      "cell_type": "code",
      "source": [
        "# Assignment 2 (Question 5)\n",
        "\n",
        "Sci = int(input(\"Science Marks : \"))\n",
        "math = int(input(\"Math Marks : \"))\n",
        "hin = int (input(\"Hindi Marks : \"))\n",
        "mar = int (input(\"Marathi Marks : \"))\n",
        "eng = int (input(\"English Marks : \"))\n",
        "\n",
        "Total = Sci + math + hin + mar + eng\n",
        "per = Total/5\n",
        "\n",
        "if per >= 32 and per <50:\n",
        "  print (\"You got Grade D \")\n",
        "elif per >= 50 and per <60:\n",
        "  print (\"You got Grade C \")\n",
        "elif per >= 60 and per <80:\n",
        "  print (\"You got Grade B\")\n",
        "elif per >= 80 and per == 100:\n",
        "  print (\"You got Grade A\")\n",
        "else:\n",
        "  print (\"You got Grade F\")\n",
        "\n"
      ],
      "metadata": {
        "colab": {
          "base_uri": "https://localhost:8080/"
        },
        "id": "fsLSb8Skrll2",
        "outputId": "115e0223-a219-4471-ffb4-e354409f1a98"
      },
      "execution_count": null,
      "outputs": [
        {
          "output_type": "stream",
          "name": "stdout",
          "text": [
            "Science Marks : 100\n",
            "Math Marks : 100\n",
            "Hindi Marks : 100\n",
            "Marathi Marks : 100\n",
            "English Marks : 100\n",
            "You got Grade A\n"
          ]
        }
      ]
    },
    {
      "cell_type": "code",
      "source": [
        "from re import U\n",
        "# Assignment 2 (Question 6)\n",
        "\n",
        "Uyr = int(input (\"Enter your Birth Year : \"))\n",
        "Umnt = int(input (\"Enter your Birth Month : \"))\n",
        "Udt = int(input (\"Enter your Birth Day : \"))\n",
        "\n",
        "Cyr = int(input (\"Enter Current Year : \"))\n",
        "Cmnt = int(input (\"Enter Current Month : \"))\n",
        "Cdt = int(input (\"Enter Current Day : \"))\n",
        "\n",
        "diffy = Cyr - Uyr\n",
        "diffmnt = Cmnt - Umnt\n",
        "diffdt = Cdt - Udt\n",
        "\n",
        "totalmnt = (diffy*12)+(diffmnt)\n",
        "totaldays = (diffy*365)+(diffmnt/12*365)+(diffdt)\n",
        "totalwk = totaldays/7\n",
        "totalhr = totaldays*24\n",
        "totalmin = totalhr*60\n",
        "totalsec = totalmin*60\n",
        "\n",
        "\n",
        "print(\"Your age is \", diffy,\"year\", diffmnt,\"Months\", diffdt, \"Days\")\n",
        "print(\"OR Your age is \", totalmnt,\"Months\", diffdt, \"Days\")\n",
        "print(\"OR Your age is \", totalwk,\"weeks\")\n",
        "print(\"OR Your age is \", totaldays, \"Days\")\n",
        "print(\"OR Your age is \", totalhr, \"hours\")\n",
        "print(\"OR Your age is \", totalmin, \"mins\")\n",
        "print(\"OR Your age is \", totalsec, \"seconds\")\n",
        "\n"
      ],
      "metadata": {
        "colab": {
          "base_uri": "https://localhost:8080/"
        },
        "id": "BUiBp0tNuW6E",
        "outputId": "0b3efb21-2179-4c9c-b17f-e32c347b3203"
      },
      "execution_count": null,
      "outputs": [
        {
          "output_type": "stream",
          "name": "stdout",
          "text": [
            "Enter your Birth Year : 2015\n",
            "Enter your Birth Month : 05\n",
            "Enter your Birth Day : 22\n",
            "Enter Current Year : 2023\n",
            "Enter Current Month : 07\n",
            "Enter Current Day : 31\n",
            "Your age is  8 year 2 Months 9 Days\n",
            "OR Your age is  98 Months 9 Days\n",
            "OR Your age is  427.11904761904765 weeks\n",
            "OR Your age is  2989.8333333333335 Days\n",
            "OR Your age is  71756.0 hours\n",
            "OR Your age is  4305360.0 mins\n",
            "OR Your age is  258321600.0 seconds\n"
          ]
        }
      ]
    },
    {
      "cell_type": "code",
      "source": [
        "# Day3 ASCII Table\n",
        "# print Alphabet user input\n",
        "\n",
        "#startAlphabet = str(input('start Alphabet '))\n",
        "#endAlphabet = str(input(' end Alphabet '))\n",
        "#startint = ord(startAlphabet) # ord() = char to ASCII value\n",
        "#endint = ord(endAlphabet)\n",
        "#for i in range(startint,endint+1):\n",
        "#    print(chr(i), end=' ') # chr() =  ASCII value to char\n",
        "\n",
        "startAlphabet = input(\"Enter Start Alphabet \")\n",
        "endAlphabet = input(\"Enter Start Alphabet \")\n",
        "\n",
        "startint = ord(startAlphabet)\n",
        "endint = ord(endAlphabet)\n",
        "\n",
        "for i in range(startint, endint+1):\n",
        "  print(chr(i))\n"
      ],
      "metadata": {
        "id": "LG83qbJuSLzg",
        "colab": {
          "base_uri": "https://localhost:8080/"
        },
        "outputId": "ef1b9f47-f01f-4e8a-c3d9-d0caaa788193"
      },
      "execution_count": null,
      "outputs": [
        {
          "output_type": "stream",
          "name": "stdout",
          "text": [
            "Enter Start Alphabet k\n",
            "Enter Start Alphabet s\n",
            "k\n",
            "l\n",
            "m\n",
            "n\n",
            "o\n",
            "p\n",
            "q\n",
            "r\n",
            "s\n"
          ]
        }
      ]
    },
    {
      "cell_type": "code",
      "source": [],
      "metadata": {
        "id": "f9319C4Aorf1"
      },
      "execution_count": null,
      "outputs": []
    },
    {
      "cell_type": "code",
      "source": [
        "# Day 3 Assignments- Question no. 1 (Calculate sum of natural numbers)(while loop)\n",
        "\n",
        "startNum = int(input(\"Enter Start Number \"))\n",
        "endNum = int(input(\"Enter End Number \"))\n",
        "sum=0\n",
        "\n",
        "while (startNum<=endNum):\n",
        "  sum+=startNum\n",
        "  startNum+=1\n",
        "\n",
        "print(sum)\n",
        "\n",
        "\n"
      ],
      "metadata": {
        "colab": {
          "base_uri": "https://localhost:8080/"
        },
        "id": "EEt3i_JFIeH3",
        "outputId": "5c71e04b-73f4-438a-a528-6bbcff4d5ffb"
      },
      "execution_count": null,
      "outputs": [
        {
          "output_type": "stream",
          "name": "stdout",
          "text": [
            "Enter Start Number 10\n",
            "Enter End Number 12\n",
            "33\n"
          ]
        }
      ]
    },
    {
      "cell_type": "code",
      "source": [
        "#assignment question no. 2 (table)\n",
        "\n",
        "Num = int(input(\"Enter Number for Table \"))\n",
        "\n",
        "for i in range(1,10+1):\n",
        "  print(Num, \" X \", i, \"=\", Num*i)"
      ],
      "metadata": {
        "colab": {
          "base_uri": "https://localhost:8080/"
        },
        "id": "1DreVYRYKYH5",
        "outputId": "d52ea450-2783-4e4f-de00-45981e555c09"
      },
      "execution_count": null,
      "outputs": [
        {
          "output_type": "stream",
          "name": "stdout",
          "text": [
            "Enter Number for Table 5\n",
            "5  X  1 = 5\n",
            "5  X  2 = 10\n",
            "5  X  3 = 15\n",
            "5  X  4 = 20\n",
            "5  X  5 = 25\n",
            "5  X  6 = 30\n",
            "5  X  7 = 35\n",
            "5  X  8 = 40\n",
            "5  X  9 = 45\n",
            "5  X  10 = 50\n"
          ]
        }
      ]
    },
    {
      "cell_type": "code",
      "source": [
        "#question no. 3 and 4 (count of alphabets and digits)\n",
        "\n",
        "Str = input(\"Enter Word : \")\n",
        "Num = input(\"Enter the number : \")\n",
        "\n",
        "print(\"Total Count of Alphabet : \",len(Str))\n",
        "print(\"Total Count of Digits : \",len(Num))\n"
      ],
      "metadata": {
        "colab": {
          "base_uri": "https://localhost:8080/"
        },
        "id": "Gezr5QmZLYuW",
        "outputId": "feeb0857-e28c-4598-b525-4a651fcb00dc"
      },
      "execution_count": 10,
      "outputs": [
        {
          "output_type": "stream",
          "name": "stdout",
          "text": [
            "Enter Word : oqurld\n",
            "Enter the number : 878783833\n",
            "Total Count of Alphabet :  6\n",
            "Total Count of Digits :  9\n"
          ]
        }
      ]
    },
    {
      "cell_type": "code",
      "source": [
        "#question no. 5 (reverse number)\n",
        "\n",
        "num = input(\"Enter Number \")\n",
        "rev=0\n",
        "length=len(num)\n",
        "num1= int(num)\n",
        "#last_digit=num1%10\n",
        "\n",
        "for i in range(length):\n",
        "  rev=(rev*10)+num1%10\n",
        "  num1=num1//10\n",
        "\n",
        "print(rev)\n",
        "\n",
        "# method2\n",
        "\n",
        "str1=' '\n",
        "word1 = input(\"Enter Word \")\n",
        "\n",
        "for i in word1:\n",
        "  str1=i+str1\n",
        "\n",
        "\n",
        "\n",
        "str2=' '\n",
        "word2 = input(\"Enter Number\")\n",
        "\n",
        "for i in word2:\n",
        "  str2=i+str2\n",
        "\n",
        "\n",
        "\n",
        "print(str1)\n",
        "print(str2)\n",
        "\n",
        "\n",
        "\n"
      ],
      "metadata": {
        "colab": {
          "base_uri": "https://localhost:8080/"
        },
        "id": "x7zMq9ftN37P",
        "outputId": "d5e9c522-c526-475c-a3dc-ebc661ea9700"
      },
      "execution_count": 11,
      "outputs": [
        {
          "output_type": "stream",
          "name": "stdout",
          "text": [
            "Enter Number 883832\n",
            "238388\n",
            "Enter Word uslesls\n",
            "Enter Number70232\n",
            "slselsu \n",
            "23207 \n"
          ]
        }
      ]
    },
    {
      "cell_type": "code",
      "source": [
        "#assignment 2 Question no. 1 (sum of natural numbers) - For loop\n",
        "\n",
        "startNum= int(input(\"Enter start num \"))\n",
        "endNum= int(input(\"Enter end num \"))\n",
        "sum =0\n",
        "\n",
        "for i in range(startNum, endNum+1):\n",
        "  sum+=startNum\n",
        "  startNum+=1\n",
        "\n",
        "\n",
        "print(sum)\n"
      ],
      "metadata": {
        "colab": {
          "base_uri": "https://localhost:8080/"
        },
        "id": "s_zbc5Y1ouSo",
        "outputId": "834c714c-8f75-4a9b-e291-6c5489e90b48"
      },
      "execution_count": null,
      "outputs": [
        {
          "output_type": "stream",
          "name": "stdout",
          "text": [
            "Enter start num 1\n",
            "Enter end num 10\n",
            "55\n"
          ]
        }
      ]
    }
  ]
}