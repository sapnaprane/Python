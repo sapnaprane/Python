menu = { }

while True:
  order_item=input("Enter the product (or press 'q' to quit): ")

  if order_item == 'q':
    break

  order_price=int(input("Enter the price: "))
  menu[order_item] = order_price

print("\n------------------S T O C K ----------------\n")
for i in menu:
    print((i), "= Rs. ",menu[i],"/- ")
print('\n============================================\n')


bill={ }
bill_price=[]
price=[]
amt=[]
sum=0

while True:
  order=input("Do you want to give order, please enter the product (or press 'q' to quit): ")
  if order == 'q':
    break
  
  if order in menu:
    price_bill = menu.get(order)
    price.append(price_bill)
    qty=int(input("Enter the Required quantity: "))
    amt_bill = price_bill * qty
    amt.append(amt_bill)
    sum+=amt_bill
    bill_price.append(sum)
    bill[order] = qty 
    
  else:
    print("Incorrect Enrty")

    


#print(menu)
#print(bill)
#print(sum)

j=0
print("\n------------------B I L L ----------------\n")

for i in bill:
    print((i),"(",price[j],")" ,"x", bill[i], "= Rs.", amt[j], "/- ")
    j+=1;


print("Amount = Rs.",sum,"/-")
print("GST Value @5% = Rs.", (sum*5/100),"/-" )
print("Total Amount = Rs.", (sum+(sum*5/100)) )
print("\n---------- T H A N K    Y O U ------------\n")
